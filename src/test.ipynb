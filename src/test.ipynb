{
 "cells": [
  {
   "cell_type": "code",
   "execution_count": 14,
   "id": "6c24fc9b",
   "metadata": {},
   "outputs": [],
   "source": [
    "import torch\n",
    "from sentence_transformers.models import Pooling, Transformer\n",
    "from sentence_transformers import SentenceTransformer, InputExample\n",
    "from sentence_transformers.losses import ContrastiveLoss, MultipleNegativesRankingLoss, SoftmaxLoss, CoSENTLoss\n",
    "from sentence_transformers.evaluation import BinaryClassificationEvaluator\n",
    "from sentence_transformers.util import cos_sim\n",
    "from torch.utils.data import DataLoader\n",
    "\n",
    "from peft import get_peft_config, get_peft_model, LoraConfig, TaskType"
   ]
  },
  {
   "cell_type": "code",
   "execution_count": 3,
   "id": "b62fa755",
   "metadata": {},
   "outputs": [],
   "source": [
    "# Define model\n",
    "## Step 1: use an existing language model\n",
    "word_embedding_model = Transformer('distilroberta-base')\n",
    "\n",
    "## Step 2: use a pool function over the token embeddings\n",
    "pooling_model = Pooling(word_embedding_model.get_word_embedding_dimension(), \n",
    "                               pooling_mode = 'cls',\n",
    "                               pooling_mode_cls_token=True, \n",
    "                               pooling_mode_mean_tokens = False)\n",
    "\n",
    "## Join steps 1 and 2 using the modules argument\n",
    "model = SentenceTransformer(modules=[word_embedding_model, pooling_model])\n",
    "# CONFIGURA LORA\n",
    "peft_config = LoraConfig(\n",
    "    task_type=TaskType.SEQ_CLS,\n",
    "    inference_mode=False,\n",
    "    r=8,\n",
    "    lora_alpha=32,\n",
    "    target_modules=[\"query\", \"value\"]\n",
    ")\n",
    "model.add_adapter(peft_config)"
   ]
  },
  {
   "cell_type": "code",
   "execution_count": 4,
   "id": "2dfeadda",
   "metadata": {},
   "outputs": [],
   "source": [
    "from datasets import load_dataset\n",
    "\n",
    "dataset = load_dataset(\"glue\", \"mrpc\")"
   ]
  },
  {
   "cell_type": "code",
   "execution_count": 5,
   "id": "a8480899",
   "metadata": {},
   "outputs": [
    {
     "data": {
      "text/plain": [
       "DatasetDict({\n",
       "    train: Dataset({\n",
       "        features: ['sentence1', 'sentence2', 'label', 'idx'],\n",
       "        num_rows: 3668\n",
       "    })\n",
       "    validation: Dataset({\n",
       "        features: ['sentence1', 'sentence2', 'label', 'idx'],\n",
       "        num_rows: 408\n",
       "    })\n",
       "    test: Dataset({\n",
       "        features: ['sentence1', 'sentence2', 'label', 'idx'],\n",
       "        num_rows: 1725\n",
       "    })\n",
       "})"
      ]
     },
     "execution_count": 5,
     "metadata": {},
     "output_type": "execute_result"
    }
   ],
   "source": [
    "dataset"
   ]
  },
  {
   "cell_type": "code",
   "execution_count": 6,
   "id": "ff94cca3",
   "metadata": {},
   "outputs": [],
   "source": [
    "# Format training data\n",
    "train_examples = []\n",
    "for example in dataset['train']:\n",
    "    train_examples.append(InputExample(texts=[example['sentence1'], example['sentence2']], label=float(example['label'])))"
   ]
  },
  {
   "cell_type": "code",
   "execution_count": 7,
   "id": "5ea7e369",
   "metadata": {},
   "outputs": [],
   "source": [
    "train_dataloader = DataLoader(train_examples, shuffle=True, batch_size=4)"
   ]
  },
  {
   "cell_type": "code",
   "execution_count": 8,
   "id": "9270ad26",
   "metadata": {},
   "outputs": [],
   "source": [
    "train_loss = ContrastiveLoss(model=model)\n",
    "# (anchor, positive), (anchor, positive, negative)\n",
    "mnrl_loss = MultipleNegativesRankingLoss(model)\n",
    "# (sentence_A, sentence_B) + class\n",
    "softmax_loss = SoftmaxLoss(model, model.get_sentence_embedding_dimension(), 3)\n",
    "# (sentence_A, sentence_B) + score\n",
    "cosent_loss = CoSENTLoss(model)"
   ]
  },
  {
   "cell_type": "code",
   "execution_count": 9,
   "id": "dbe9680f",
   "metadata": {},
   "outputs": [],
   "source": [
    "# Format evaluation data\n",
    "sentences1 = []\n",
    "sentences2 = []\n",
    "scores = []\n",
    "for example in dataset['validation']:\n",
    "    sentences1.append(example['sentence1'])\n",
    "    sentences2.append(example['sentence2'])\n",
    "    scores.append(float(example['label']))"
   ]
  },
  {
   "cell_type": "code",
   "execution_count": 10,
   "id": "e114acaf",
   "metadata": {},
   "outputs": [],
   "source": [
    "evaluator = BinaryClassificationEvaluator(sentences1, sentences2, scores)"
   ]
  },
  {
   "cell_type": "code",
   "execution_count": 11,
   "id": "622f06e7",
   "metadata": {},
   "outputs": [
    {
     "name": "stderr",
     "output_type": "stream",
     "text": [
      "                                                                     \r"
     ]
    },
    {
     "data": {
      "text/html": [
       "\n",
       "    <div>\n",
       "      \n",
       "      <progress value='917' max='917' style='width:300px; height:20px; vertical-align: middle;'></progress>\n",
       "      [917/917 03:48, Epoch 1/1]\n",
       "    </div>\n",
       "    <table border=\"1\" class=\"dataframe\">\n",
       "  <thead>\n",
       " <tr style=\"text-align: left;\">\n",
       "      <th>Step</th>\n",
       "      <th>Training Loss</th>\n",
       "      <th>Validation Loss</th>\n",
       "      <th>Cosine Accuracy</th>\n",
       "      <th>Cosine Accuracy Threshold</th>\n",
       "      <th>Cosine F1</th>\n",
       "      <th>Cosine F1 Threshold</th>\n",
       "      <th>Cosine Precision</th>\n",
       "      <th>Cosine Recall</th>\n",
       "      <th>Cosine Ap</th>\n",
       "      <th>Cosine Mcc</th>\n",
       "    </tr>\n",
       "  </thead>\n",
       "  <tbody>\n",
       "    <tr>\n",
       "      <td>500</td>\n",
       "      <td>0.030600</td>\n",
       "      <td>No log</td>\n",
       "      <td>0.703431</td>\n",
       "      <td>0.939111</td>\n",
       "      <td>0.813609</td>\n",
       "      <td>0.863224</td>\n",
       "      <td>0.692695</td>\n",
       "      <td>0.985663</td>\n",
       "      <td>0.851923</td>\n",
       "      <td>0.114622</td>\n",
       "    </tr>\n",
       "    <tr>\n",
       "      <td>917</td>\n",
       "      <td>0.030600</td>\n",
       "      <td>No log</td>\n",
       "      <td>0.700980</td>\n",
       "      <td>0.947623</td>\n",
       "      <td>0.816024</td>\n",
       "      <td>0.885471</td>\n",
       "      <td>0.696203</td>\n",
       "      <td>0.985663</td>\n",
       "      <td>0.863261</td>\n",
       "      <td>0.146749</td>\n",
       "    </tr>\n",
       "  </tbody>\n",
       "</table><p>"
      ],
      "text/plain": [
       "<IPython.core.display.HTML object>"
      ]
     },
     "metadata": {},
     "output_type": "display_data"
    }
   ],
   "source": [
    "# Start training\n",
    "model.fit(\n",
    "    train_objectives=[(train_dataloader, train_loss)], \n",
    "    evaluator=evaluator,\n",
    "    evaluation_steps=500,\n",
    "    epochs=1, \n",
    "    warmup_steps=0,\n",
    "    output_path='./sentence_transformer/',\n",
    "    weight_decay=0.01,\n",
    "    optimizer_params={'lr': 0.00004},\n",
    "    save_best_model=True,\n",
    "    show_progress_bar=True,\n",
    ")"
   ]
  },
  {
   "cell_type": "code",
   "execution_count": 12,
   "id": "22620612",
   "metadata": {},
   "outputs": [],
   "source": [
    "model.save(\"output/mrpc-sbert\")"
   ]
  },
  {
   "cell_type": "code",
   "execution_count": 16,
   "id": "33a93d8a",
   "metadata": {},
   "outputs": [],
   "source": [
    "# Format evaluation data\n",
    "sentences1 = []\n",
    "sentences2 = []\n",
    "scores = []\n",
    "for example in dataset['validation']:\n",
    "    sentences1.append(example['sentence1'])\n",
    "    sentences2.append(example['sentence2'])\n",
    "    scores.append(float(example['label']))\n",
    "\n",
    "test_evaluator = BinaryClassificationEvaluator(sentences1, sentences2, scores)"
   ]
  },
  {
   "cell_type": "code",
   "execution_count": 17,
   "id": "5642b6c9",
   "metadata": {},
   "outputs": [
    {
     "data": {
      "text/plain": [
       "{'cosine_accuracy': 0.7009803921568627,\n",
       " 'cosine_accuracy_threshold': 0.9476230144500732,\n",
       " 'cosine_f1': 0.8160237388724035,\n",
       " 'cosine_f1_threshold': 0.8854706287384033,\n",
       " 'cosine_precision': 0.6962025316455697,\n",
       " 'cosine_recall': 0.985663082437276,\n",
       " 'cosine_ap': 0.8632612748196974,\n",
       " 'cosine_mcc': 0.146749192191174}"
      ]
     },
     "execution_count": 17,
     "metadata": {},
     "output_type": "execute_result"
    }
   ],
   "source": [
    "test_evaluator(model)"
   ]
  },
  {
   "cell_type": "code",
   "execution_count": 15,
   "id": "f4cad9ed",
   "metadata": {},
   "outputs": [
    {
     "name": "stdout",
     "output_type": "stream",
     "text": [
      "11.47\n"
     ]
    }
   ],
   "source": [
    "\n",
    "correct = 0\n",
    "for row in dataset['test']:\n",
    "    u = model.encode(row['sentence1'])\n",
    "    v = model.encode(row['sentence2'])\n",
    "    cos_score = cos_sim(u, v)[0].numpy()[0]\n",
    "    if cos_score > 0.5 and row['label'] == 1:\n",
    "        correct += 1\n",
    "    if cos_score <= 0.5 and row['label'] == 0:\n",
    "        correct += 1\n",
    "\n",
    "print(correct/100)"
   ]
  },
  {
   "cell_type": "code",
   "execution_count": 56,
   "id": "a208071c",
   "metadata": {},
   "outputs": [],
   "source": [
    "from datasets import load_dataset\n",
    "\n",
    "dataset = load_dataset(\"glue\", \"qqp\")"
   ]
  },
  {
   "cell_type": "code",
   "execution_count": 57,
   "id": "1fb5dc66",
   "metadata": {},
   "outputs": [
    {
     "data": {
      "text/plain": [
       "DatasetDict({\n",
       "    train: Dataset({\n",
       "        features: ['question1', 'question2', 'label', 'idx'],\n",
       "        num_rows: 363846\n",
       "    })\n",
       "    validation: Dataset({\n",
       "        features: ['question1', 'question2', 'label', 'idx'],\n",
       "        num_rows: 40430\n",
       "    })\n",
       "    test: Dataset({\n",
       "        features: ['question1', 'question2', 'label', 'idx'],\n",
       "        num_rows: 390965\n",
       "    })\n",
       "})"
      ]
     },
     "execution_count": 57,
     "metadata": {},
     "output_type": "execute_result"
    }
   ],
   "source": [
    "dataset"
   ]
  },
  {
   "cell_type": "code",
   "execution_count": 58,
   "id": "07ec5e6f",
   "metadata": {},
   "outputs": [],
   "source": [
    "# Format training data\n",
    "train_examples = []\n",
    "for example in dataset['train']:\n",
    "    train_examples.append(InputExample(texts=[example['question1'], example['question2']], label=float(example['label'])))"
   ]
  },
  {
   "cell_type": "code",
   "execution_count": 59,
   "id": "a0644fdd",
   "metadata": {},
   "outputs": [],
   "source": [
    "train_dataloader = DataLoader(train_examples[:5000], shuffle=True, batch_size=4)"
   ]
  },
  {
   "cell_type": "code",
   "execution_count": 60,
   "id": "3cf205d3",
   "metadata": {},
   "outputs": [],
   "source": [
    "# Format evaluation data\n",
    "sentences1 = []\n",
    "sentences2 = []\n",
    "scores = []\n",
    "for example in dataset['validation']:\n",
    "    sentences1.append(example['question1'])\n",
    "    sentences2.append(example['question2'])\n",
    "    scores.append(float(example['label']))"
   ]
  },
  {
   "cell_type": "code",
   "execution_count": 62,
   "id": "c2580d38",
   "metadata": {},
   "outputs": [],
   "source": [
    "evaluator = BinaryClassificationEvaluator(sentences1, sentences2, scores)"
   ]
  },
  {
   "cell_type": "code",
   "execution_count": 67,
   "id": "bf25807a",
   "metadata": {},
   "outputs": [
    {
     "name": "stderr",
     "output_type": "stream",
     "text": [
      "                                                                     \r"
     ]
    },
    {
     "data": {
      "text/html": [
       "\n",
       "    <div>\n",
       "      \n",
       "      <progress value='1250' max='1250' style='width:300px; height:20px; vertical-align: middle;'></progress>\n",
       "      [1250/1250 24:37, Epoch 1/1]\n",
       "    </div>\n",
       "    <table border=\"1\" class=\"dataframe\">\n",
       "  <thead>\n",
       " <tr style=\"text-align: left;\">\n",
       "      <th>Step</th>\n",
       "      <th>Training Loss</th>\n",
       "      <th>Validation Loss</th>\n",
       "      <th>Cosine Accuracy</th>\n",
       "      <th>Cosine Accuracy Threshold</th>\n",
       "      <th>Cosine F1</th>\n",
       "      <th>Cosine F1 Threshold</th>\n",
       "      <th>Cosine Precision</th>\n",
       "      <th>Cosine Recall</th>\n",
       "      <th>Cosine Ap</th>\n",
       "      <th>Cosine Mcc</th>\n",
       "    </tr>\n",
       "  </thead>\n",
       "  <tbody>\n",
       "    <tr>\n",
       "      <td>500</td>\n",
       "      <td>0.037700</td>\n",
       "      <td>No log</td>\n",
       "      <td>0.736928</td>\n",
       "      <td>0.919240</td>\n",
       "      <td>0.679202</td>\n",
       "      <td>0.871564</td>\n",
       "      <td>0.566372</td>\n",
       "      <td>0.848169</td>\n",
       "      <td>0.660986</td>\n",
       "      <td>0.455563</td>\n",
       "    </tr>\n",
       "    <tr>\n",
       "      <td>1000</td>\n",
       "      <td>0.026400</td>\n",
       "      <td>No log</td>\n",
       "      <td>0.741974</td>\n",
       "      <td>0.916392</td>\n",
       "      <td>0.683243</td>\n",
       "      <td>0.865479</td>\n",
       "      <td>0.571132</td>\n",
       "      <td>0.850118</td>\n",
       "      <td>0.668946</td>\n",
       "      <td>0.463368</td>\n",
       "    </tr>\n",
       "    <tr>\n",
       "      <td>1250</td>\n",
       "      <td>0.026400</td>\n",
       "      <td>No log</td>\n",
       "      <td>0.743112</td>\n",
       "      <td>0.921109</td>\n",
       "      <td>0.684717</td>\n",
       "      <td>0.870346</td>\n",
       "      <td>0.573104</td>\n",
       "      <td>0.850319</td>\n",
       "      <td>0.671124</td>\n",
       "      <td>0.466215</td>\n",
       "    </tr>\n",
       "  </tbody>\n",
       "</table><p>"
      ],
      "text/plain": [
       "<IPython.core.display.HTML object>"
      ]
     },
     "metadata": {},
     "output_type": "display_data"
    }
   ],
   "source": [
    "# Start training\n",
    "model.fit(\n",
    "    train_objectives=[(train_dataloader, train_loss)], \n",
    "    evaluator=evaluator,\n",
    "    evaluation_steps=500,\n",
    "    epochs=1, \n",
    "    warmup_steps=0,\n",
    "    output_path='./sentence_transformer/',\n",
    "    weight_decay=0.01,\n",
    "    optimizer_params={'lr': 0.00004},\n",
    "    save_best_model=True,\n",
    "    show_progress_bar=True,\n",
    ")"
   ]
  },
  {
   "cell_type": "code",
   "execution_count": 52,
   "id": "b315917d",
   "metadata": {},
   "outputs": [],
   "source": [
    "# 4. Load several loss functions to train with\n",
    "# (anchor, positive), (anchor, positive, negative)\n",
    "mnrl_loss = MultipleNegativesRankingLoss(model)\n",
    "# (sentence_A, sentence_B) + class\n",
    "softmax_loss = SoftmaxLoss(model, model.get_sentence_embedding_dimension(), 3)\n",
    "# (sentence_A, sentence_B) + score\n",
    "cosent_loss = CoSENTLoss(model)\n",
    "\n",
    "# Create a mapping with dataset names to loss functions, so the trainer knows which loss to apply where.\n",
    "# Note that you can also just use one loss if all of your training/evaluation datasets use the same loss\n",
    "losses = {\n",
    "    \"quora\": softmax_loss,\n",
    "}"
   ]
  }
 ],
 "metadata": {
  "kernelspec": {
   "display_name": "Python 3",
   "language": "python",
   "name": "python3"
  },
  "language_info": {
   "codemirror_mode": {
    "name": "ipython",
    "version": 3
   },
   "file_extension": ".py",
   "mimetype": "text/x-python",
   "name": "python",
   "nbconvert_exporter": "python",
   "pygments_lexer": "ipython3",
   "version": "3.12.10"
  }
 },
 "nbformat": 4,
 "nbformat_minor": 5
}
