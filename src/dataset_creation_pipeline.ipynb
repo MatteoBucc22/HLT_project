{
 "cells": [
  {
   "cell_type": "markdown",
   "id": "75fc40c8",
   "metadata": {},
   "source": [
    "# Paraphrase Italian Dataset"
   ]
  },
  {
   "cell_type": "code",
   "execution_count": 1,
   "id": "3155d2c8",
   "metadata": {},
   "outputs": [],
   "source": [
    "import pandas as pd"
   ]
  },
  {
   "cell_type": "code",
   "execution_count": 2,
   "id": "b7a67881",
   "metadata": {},
   "outputs": [
    {
     "data": {
      "text/html": [
       "<div>\n",
       "<style scoped>\n",
       "    .dataframe tbody tr th:only-of-type {\n",
       "        vertical-align: middle;\n",
       "    }\n",
       "\n",
       "    .dataframe tbody tr th {\n",
       "        vertical-align: top;\n",
       "    }\n",
       "\n",
       "    .dataframe thead th {\n",
       "        text-align: right;\n",
       "    }\n",
       "</style>\n",
       "<table border=\"1\" class=\"dataframe\">\n",
       "  <thead>\n",
       "    <tr style=\"text-align: right;\">\n",
       "      <th></th>\n",
       "      <th>Sentence_1</th>\n",
       "      <th>Sentence_2</th>\n",
       "      <th>Cosine_Similarity</th>\n",
       "      <th>Confidence</th>\n",
       "      <th>Readability_1</th>\n",
       "      <th>Readability_2</th>\n",
       "      <th>(Readability_1-Readability_2)</th>\n",
       "    </tr>\n",
       "  </thead>\n",
       "  <tbody>\n",
       "    <tr>\n",
       "      <th>0</th>\n",
       "      <td>Ma questo a cosa servirebbe ?</td>\n",
       "      <td>A che servono queste cose ?</td>\n",
       "      <td>0.833333</td>\n",
       "      <td>0.803743</td>\n",
       "      <td>0.994767</td>\n",
       "      <td>0.013161</td>\n",
       "      <td>0.981605</td>\n",
       "    </tr>\n",
       "    <tr>\n",
       "      <th>1</th>\n",
       "      <td>Salve, avrei bisogno di una informazione piutt...</td>\n",
       "      <td>Ho bisogno di una informazione urgente .</td>\n",
       "      <td>0.836660</td>\n",
       "      <td>0.811129</td>\n",
       "      <td>0.982944</td>\n",
       "      <td>0.012627</td>\n",
       "      <td>0.970317</td>\n",
       "    </tr>\n",
       "    <tr>\n",
       "      <th>2</th>\n",
       "      <td>Ciao a tutti avrei bisogno di un consiglio .</td>\n",
       "      <td>Ho bisogno di un suo consiglio .</td>\n",
       "      <td>0.755929</td>\n",
       "      <td>0.811662</td>\n",
       "      <td>0.984332</td>\n",
       "      <td>0.014420</td>\n",
       "      <td>0.969912</td>\n",
       "    </tr>\n",
       "    <tr>\n",
       "      <th>3</th>\n",
       "      <td>Possibilmente uno che avesse bisogno dell' aiu...</td>\n",
       "      <td>Ho bisogno di un vostro aiuto .</td>\n",
       "      <td>0.801784</td>\n",
       "      <td>0.826830</td>\n",
       "      <td>0.982555</td>\n",
       "      <td>0.014647</td>\n",
       "      <td>0.967908</td>\n",
       "    </tr>\n",
       "    <tr>\n",
       "      <th>4</th>\n",
       "      <td>Questa sarebbe una cosa positiva.</td>\n",
       "      <td>Questa era una nuova cosa .</td>\n",
       "      <td>0.771517</td>\n",
       "      <td>0.800786</td>\n",
       "      <td>0.997256</td>\n",
       "      <td>0.030448</td>\n",
       "      <td>0.966808</td>\n",
       "    </tr>\n",
       "  </tbody>\n",
       "</table>\n",
       "</div>"
      ],
      "text/plain": [
       "                                          Sentence_1  \\\n",
       "0                      Ma questo a cosa servirebbe ?   \n",
       "1  Salve, avrei bisogno di una informazione piutt...   \n",
       "2      Ciao a tutti avrei bisogno di un consiglio .    \n",
       "3  Possibilmente uno che avesse bisogno dell' aiu...   \n",
       "4                  Questa sarebbe una cosa positiva.   \n",
       "\n",
       "                                 Sentence_2  Cosine_Similarity  Confidence  \\\n",
       "0              A che servono queste cose ?            0.833333    0.803743   \n",
       "1  Ho bisogno di una informazione urgente .           0.836660    0.811129   \n",
       "2          Ho bisogno di un suo consiglio .           0.755929    0.811662   \n",
       "3          Ho bisogno di un vostro aiuto .            0.801784    0.826830   \n",
       "4              Questa era una nuova cosa .            0.771517    0.800786   \n",
       "\n",
       "   Readability_1  Readability_2  (Readability_1-Readability_2)  \n",
       "0       0.994767       0.013161                       0.981605  \n",
       "1       0.982944       0.012627                       0.970317  \n",
       "2       0.984332       0.014420                       0.969912  \n",
       "3       0.982555       0.014647                       0.967908  \n",
       "4       0.997256       0.030448                       0.966808  "
      ]
     },
     "execution_count": 2,
     "metadata": {},
     "output_type": "execute_result"
    }
   ],
   "source": [
    "# Use 'skip' to skip problematic lines and continue parsing\n",
    "df = pd.read_csv('PACCSS-IT.txt', sep='\\t', usecols=range(7), quoting=3)\n",
    "df.head()"
   ]
  },
  {
   "cell_type": "code",
   "execution_count": 3,
   "id": "a90672ca",
   "metadata": {},
   "outputs": [
    {
     "name": "stdout",
     "output_type": "stream",
     "text": [
      "Confidence range: 0.800002575466 to 0.9999999\n",
      "Cosine Similarity range: 0.654653670708 to 0.949288905069\n"
     ]
    }
   ],
   "source": [
    "min_confidence = df['Confidence'].min()\n",
    "max_confidence = df['Confidence'].max()\n",
    "min_cosine = df['Cosine_Similarity'].min()\n",
    "max_cosine = df['Cosine_Similarity'].max()\n",
    "\n",
    "# Display the results\n",
    "print(f\"Confidence range: {min_confidence} to {max_confidence}\")\n",
    "print(f\"Cosine Similarity range: {min_cosine} to {max_cosine}\")"
   ]
  },
  {
   "cell_type": "markdown",
   "id": "c6bfb915",
   "metadata": {},
   "source": [
    "## Positive Class Creation"
   ]
  },
  {
   "cell_type": "code",
   "execution_count": 4,
   "id": "8cc88599",
   "metadata": {},
   "outputs": [
    {
     "data": {
      "text/html": [
       "<div>\n",
       "<style scoped>\n",
       "    .dataframe tbody tr th:only-of-type {\n",
       "        vertical-align: middle;\n",
       "    }\n",
       "\n",
       "    .dataframe tbody tr th {\n",
       "        vertical-align: top;\n",
       "    }\n",
       "\n",
       "    .dataframe thead th {\n",
       "        text-align: right;\n",
       "    }\n",
       "</style>\n",
       "<table border=\"1\" class=\"dataframe\">\n",
       "  <thead>\n",
       "    <tr style=\"text-align: right;\">\n",
       "      <th></th>\n",
       "      <th>Sentence_1</th>\n",
       "      <th>Sentence_2</th>\n",
       "      <th>Cosine_Similarity</th>\n",
       "      <th>Confidence</th>\n",
       "    </tr>\n",
       "  </thead>\n",
       "  <tbody>\n",
       "    <tr>\n",
       "      <th>0</th>\n",
       "      <td>Ma questo a cosa servirebbe ?</td>\n",
       "      <td>A che servono queste cose ?</td>\n",
       "      <td>0.833333</td>\n",
       "      <td>0.803743</td>\n",
       "    </tr>\n",
       "    <tr>\n",
       "      <th>1</th>\n",
       "      <td>Salve, avrei bisogno di una informazione piutt...</td>\n",
       "      <td>Ho bisogno di una informazione urgente .</td>\n",
       "      <td>0.836660</td>\n",
       "      <td>0.811129</td>\n",
       "    </tr>\n",
       "    <tr>\n",
       "      <th>2</th>\n",
       "      <td>Ciao a tutti avrei bisogno di un consiglio .</td>\n",
       "      <td>Ho bisogno di un suo consiglio .</td>\n",
       "      <td>0.755929</td>\n",
       "      <td>0.811662</td>\n",
       "    </tr>\n",
       "    <tr>\n",
       "      <th>3</th>\n",
       "      <td>Possibilmente uno che avesse bisogno dell' aiu...</td>\n",
       "      <td>Ho bisogno di un vostro aiuto .</td>\n",
       "      <td>0.801784</td>\n",
       "      <td>0.826830</td>\n",
       "    </tr>\n",
       "    <tr>\n",
       "      <th>4</th>\n",
       "      <td>Questa sarebbe una cosa positiva.</td>\n",
       "      <td>Questa era una nuova cosa .</td>\n",
       "      <td>0.771517</td>\n",
       "      <td>0.800786</td>\n",
       "    </tr>\n",
       "  </tbody>\n",
       "</table>\n",
       "</div>"
      ],
      "text/plain": [
       "                                          Sentence_1  \\\n",
       "0                      Ma questo a cosa servirebbe ?   \n",
       "1  Salve, avrei bisogno di una informazione piutt...   \n",
       "2      Ciao a tutti avrei bisogno di un consiglio .    \n",
       "3  Possibilmente uno che avesse bisogno dell' aiu...   \n",
       "4                  Questa sarebbe una cosa positiva.   \n",
       "\n",
       "                                 Sentence_2  Cosine_Similarity  Confidence  \n",
       "0              A che servono queste cose ?            0.833333    0.803743  \n",
       "1  Ho bisogno di una informazione urgente .           0.836660    0.811129  \n",
       "2          Ho bisogno di un suo consiglio .           0.755929    0.811662  \n",
       "3          Ho bisogno di un vostro aiuto .            0.801784    0.826830  \n",
       "4              Questa era una nuova cosa .            0.771517    0.800786  "
      ]
     },
     "execution_count": 4,
     "metadata": {},
     "output_type": "execute_result"
    }
   ],
   "source": [
    "# drop the last three columns\n",
    "df = df.iloc[:, :-3]\n",
    "df.head()"
   ]
  },
  {
   "cell_type": "code",
   "execution_count": 5,
   "id": "605ebf8f",
   "metadata": {},
   "outputs": [],
   "source": [
    "confidence_treshold = 0.90\n",
    "cosine_threshold = 0.80"
   ]
  },
  {
   "cell_type": "code",
   "execution_count": 6,
   "id": "c215ffb5",
   "metadata": {},
   "outputs": [
    {
     "data": {
      "text/plain": [
       "14545"
      ]
     },
     "execution_count": 6,
     "metadata": {},
     "output_type": "execute_result"
    }
   ],
   "source": [
    "# Filter the DataFrame based on the thresholds\n",
    "filtered_df = df[(df['Confidence'] >= confidence_treshold) & (df['Cosine_Similarity'] >= cosine_threshold)]\n",
    "\n",
    "len(filtered_df)"
   ]
  },
  {
   "cell_type": "code",
   "execution_count": 7,
   "id": "8900f06e",
   "metadata": {},
   "outputs": [
    {
     "data": {
      "text/html": [
       "<div>\n",
       "<style scoped>\n",
       "    .dataframe tbody tr th:only-of-type {\n",
       "        vertical-align: middle;\n",
       "    }\n",
       "\n",
       "    .dataframe tbody tr th {\n",
       "        vertical-align: top;\n",
       "    }\n",
       "\n",
       "    .dataframe thead th {\n",
       "        text-align: right;\n",
       "    }\n",
       "</style>\n",
       "<table border=\"1\" class=\"dataframe\">\n",
       "  <thead>\n",
       "    <tr style=\"text-align: right;\">\n",
       "      <th></th>\n",
       "      <th>Sentence_1</th>\n",
       "      <th>Sentence_2</th>\n",
       "      <th>Cosine_Similarity</th>\n",
       "      <th>Confidence</th>\n",
       "    </tr>\n",
       "  </thead>\n",
       "  <tbody>\n",
       "    <tr>\n",
       "      <th>35173</th>\n",
       "      <td>Ma questo è solo il primo passo .</td>\n",
       "      <td>Ed è solo il primo passo .</td>\n",
       "      <td>0.801784</td>\n",
       "      <td>0.971201</td>\n",
       "    </tr>\n",
       "    <tr>\n",
       "      <th>42931</th>\n",
       "      <td>Posto ai voti , l' emendamento 6.1 , viene res...</td>\n",
       "      <td>Posto ai voti è respinto l' emendamento 1.1 .</td>\n",
       "      <td>0.843274</td>\n",
       "      <td>0.900495</td>\n",
       "    </tr>\n",
       "    <tr>\n",
       "      <th>24230</th>\n",
       "      <td>La Commissione prosegue l' esame , rinviato , ...</td>\n",
       "      <td>La Commissione prosegue l' esame rinviato nell...</td>\n",
       "      <td>0.886405</td>\n",
       "      <td>0.927586</td>\n",
       "    </tr>\n",
       "    <tr>\n",
       "      <th>42879</th>\n",
       "      <td>Questo è un punto di estrema importanza .</td>\n",
       "      <td>è un punto di grande importanza .</td>\n",
       "      <td>0.801784</td>\n",
       "      <td>0.964339</td>\n",
       "    </tr>\n",
       "    <tr>\n",
       "      <th>59391</th>\n",
       "      <td>E allora , un \" altro mondo \" sarà possibile .</td>\n",
       "      <td>E allora , un altro mondo sarà possibile .</td>\n",
       "      <td>0.948683</td>\n",
       "      <td>0.931301</td>\n",
       "    </tr>\n",
       "    <tr>\n",
       "      <th>...</th>\n",
       "      <td>...</td>\n",
       "      <td>...</td>\n",
       "      <td>...</td>\n",
       "      <td>...</td>\n",
       "    </tr>\n",
       "    <tr>\n",
       "      <th>45885</th>\n",
       "      <td>Si tratta , dunque , di un passaggio decisivo .</td>\n",
       "      <td>Si tratta di un passaggio decisivo .</td>\n",
       "      <td>0.881917</td>\n",
       "      <td>0.951611</td>\n",
       "    </tr>\n",
       "    <tr>\n",
       "      <th>15271</th>\n",
       "      <td>Il fine , però , non giustifica i mezzi .</td>\n",
       "      <td>Il fine non giustifica mai i mezzi .</td>\n",
       "      <td>0.801784</td>\n",
       "      <td>0.950393</td>\n",
       "    </tr>\n",
       "    <tr>\n",
       "      <th>12011</th>\n",
       "      <td>Le cose però non starebbero così .</td>\n",
       "      <td>Le cose non stavano esattamente così .</td>\n",
       "      <td>0.857143</td>\n",
       "      <td>0.938938</td>\n",
       "    </tr>\n",
       "    <tr>\n",
       "      <th>30628</th>\n",
       "      <td>Questa però è opinione mia .</td>\n",
       "      <td>Questa è una mia opinione .</td>\n",
       "      <td>0.833333</td>\n",
       "      <td>0.957264</td>\n",
       "    </tr>\n",
       "    <tr>\n",
       "      <th>58272</th>\n",
       "      <td>In tal caso sui redditi così determinati l' in...</td>\n",
       "      <td>In tale caso sui redditi così determinati l' i...</td>\n",
       "      <td>0.905822</td>\n",
       "      <td>0.992292</td>\n",
       "    </tr>\n",
       "  </tbody>\n",
       "</table>\n",
       "<p>100 rows × 4 columns</p>\n",
       "</div>"
      ],
      "text/plain": [
       "                                              Sentence_1  \\\n",
       "35173                  Ma questo è solo il primo passo .   \n",
       "42931  Posto ai voti , l' emendamento 6.1 , viene res...   \n",
       "24230  La Commissione prosegue l' esame , rinviato , ...   \n",
       "42879          Questo è un punto di estrema importanza .   \n",
       "59391    E allora , un \" altro mondo \" sarà possibile .    \n",
       "...                                                  ...   \n",
       "45885    Si tratta , dunque , di un passaggio decisivo .   \n",
       "15271         Il fine , però , non giustifica i mezzi .    \n",
       "12011                 Le cose però non starebbero così .   \n",
       "30628                       Questa però è opinione mia .   \n",
       "58272  In tal caso sui redditi così determinati l' in...   \n",
       "\n",
       "                                              Sentence_2  Cosine_Similarity  \\\n",
       "35173                        Ed è solo il primo passo .            0.801784   \n",
       "42931     Posto ai voti è respinto l' emendamento 1.1 .            0.843274   \n",
       "24230  La Commissione prosegue l' esame rinviato nell...           0.886405   \n",
       "42879                 è un punto di grande importanza .            0.801784   \n",
       "59391         E allora , un altro mondo sarà possibile .           0.948683   \n",
       "...                                                  ...                ...   \n",
       "45885              Si tratta di un passaggio decisivo .            0.881917   \n",
       "15271               Il fine non giustifica mai i mezzi .           0.801784   \n",
       "12011            Le cose non stavano esattamente così .            0.857143   \n",
       "30628                       Questa è una mia opinione .            0.833333   \n",
       "58272  In tale caso sui redditi così determinati l' i...           0.905822   \n",
       "\n",
       "       Confidence  \n",
       "35173    0.971201  \n",
       "42931    0.900495  \n",
       "24230    0.927586  \n",
       "42879    0.964339  \n",
       "59391    0.931301  \n",
       "...           ...  \n",
       "45885    0.951611  \n",
       "15271    0.950393  \n",
       "12011    0.938938  \n",
       "30628    0.957264  \n",
       "58272    0.992292  \n",
       "\n",
       "[100 rows x 4 columns]"
      ]
     },
     "execution_count": 7,
     "metadata": {},
     "output_type": "execute_result"
    }
   ],
   "source": [
    "# pick 100 random samples\n",
    "sample = filtered_df.sample(n=100, random_state=1)\n",
    "\n",
    "#show the sample\n",
    "sample"
   ]
  },
  {
   "cell_type": "code",
   "execution_count": 8,
   "id": "07643b1e",
   "metadata": {},
   "outputs": [
    {
     "name": "stderr",
     "output_type": "stream",
     "text": [
      "/var/folders/xz/wxdrzvcj7zzcg3w1l542xxg40000gn/T/ipykernel_23404/457701535.py:2: SettingWithCopyWarning: \n",
      "A value is trying to be set on a copy of a slice from a DataFrame.\n",
      "Try using .loc[row_indexer,col_indexer] = value instead\n",
      "\n",
      "See the caveats in the documentation: https://pandas.pydata.org/pandas-docs/stable/user_guide/indexing.html#returning-a-view-versus-a-copy\n",
      "  filtered_df['label'] = 1\n"
     ]
    }
   ],
   "source": [
    "# add a column label with value 1\n",
    "filtered_df['label'] = 1"
   ]
  },
  {
   "cell_type": "markdown",
   "id": "9f4d4eaa",
   "metadata": {},
   "source": [
    "## Negative Class Creation"
   ]
  },
  {
   "cell_type": "markdown",
   "id": "923c5f44",
   "metadata": {},
   "source": [
    "### Supervied Random Sampling\n",
    "\n",
    "We take a sentence A from the corpus and randomly sample a sentence B to associate with it. We exclude sentences with a cosine similarity greater than a certain threshold to avoid false negatives. Of course, the sentence pair should not be already present in the dataset. "
   ]
  },
  {
   "cell_type": "code",
   "execution_count": 9,
   "id": "78a9ac92",
   "metadata": {},
   "outputs": [],
   "source": [
    "random_state = 42\n",
    "\n",
    "def generate_random_sentence_pair():\n",
    "    # pick a random Sentence_1\n",
    "    s1 = df.sample(n=1, random_state=random_state)['Sentence_1'].values[0]\n",
    "    # pick a random Sentence_2\n",
    "    s2 = df.sample(n=1, random_state=random_state)['Sentence_2'].values[0]\n",
    "    return s1, s2\n"
   ]
  },
  {
   "cell_type": "code",
   "execution_count": null,
   "id": "f6dfdb68",
   "metadata": {},
   "outputs": [
    {
     "name": "stderr",
     "output_type": "stream",
     "text": [
      "Xet Storage is enabled for this repo, but the 'hf_xet' package is not installed. Falling back to regular HTTP download. For better performance, install the package with: `pip install huggingface_hub[hf_xet]` or `pip install hf_xet`\n"
     ]
    },
    {
     "ename": "KeyboardInterrupt",
     "evalue": "",
     "output_type": "error",
     "traceback": [
      "\u001b[0;31m---------------------------------------------------------------------------\u001b[0m",
      "\u001b[0;31mKeyboardInterrupt\u001b[0m                         Traceback (most recent call last)",
      "\u001b[0;32m/var/folders/xz/wxdrzvcj7zzcg3w1l542xxg40000gn/T/ipykernel_23404/2254072612.py\u001b[0m in \u001b[0;36m?\u001b[0;34m()\u001b[0m\n\u001b[1;32m      8\u001b[0m \u001b[0;34m\u001b[0m\u001b[0m\n\u001b[1;32m      9\u001b[0m \u001b[0;32mwhile\u001b[0m \u001b[0;34m(\u001b[0m\u001b[0mlen\u001b[0m\u001b[0;34m(\u001b[0m\u001b[0mnegative_df\u001b[0m\u001b[0;34m)\u001b[0m \u001b[0;34m<=\u001b[0m \u001b[0mlen\u001b[0m\u001b[0;34m(\u001b[0m\u001b[0mfiltered_df\u001b[0m\u001b[0;34m)\u001b[0m\u001b[0;34m)\u001b[0m\u001b[0;34m:\u001b[0m \u001b[0;31m# ratio 1:1 with the positive class\u001b[0m\u001b[0;34m\u001b[0m\u001b[0;34m\u001b[0m\u001b[0m\n\u001b[1;32m     10\u001b[0m     \u001b[0ms1\u001b[0m\u001b[0;34m,\u001b[0m \u001b[0ms2\u001b[0m \u001b[0;34m=\u001b[0m \u001b[0mgenerate_random_sentence_pair\u001b[0m\u001b[0;34m(\u001b[0m\u001b[0;34m)\u001b[0m\u001b[0;34m\u001b[0m\u001b[0;34m\u001b[0m\u001b[0m\n\u001b[1;32m     11\u001b[0m     \u001b[0;31m# check if the pair is not already in the corpus\u001b[0m\u001b[0;34m\u001b[0m\u001b[0;34m\u001b[0m\u001b[0;34m\u001b[0m\u001b[0m\n\u001b[0;32m---> 12\u001b[0;31m     \u001b[0;32mif\u001b[0m \u001b[0;32mnot\u001b[0m \u001b[0;34m(\u001b[0m\u001b[0;34m(\u001b[0m\u001b[0mdf\u001b[0m\u001b[0;34m[\u001b[0m\u001b[0;34m'Sentence_1'\u001b[0m\u001b[0;34m]\u001b[0m \u001b[0;34m==\u001b[0m \u001b[0ms1\u001b[0m\u001b[0;34m)\u001b[0m \u001b[0;34m&\u001b[0m \u001b[0;34m(\u001b[0m\u001b[0mdf\u001b[0m\u001b[0;34m[\u001b[0m\u001b[0;34m'Sentence_2'\u001b[0m\u001b[0;34m]\u001b[0m \u001b[0;34m==\u001b[0m \u001b[0ms2\u001b[0m\u001b[0;34m)\u001b[0m\u001b[0;34m)\u001b[0m\u001b[0;34m.\u001b[0m\u001b[0many\u001b[0m\u001b[0;34m(\u001b[0m\u001b[0;34m)\u001b[0m\u001b[0;34m:\u001b[0m\u001b[0;34m\u001b[0m\u001b[0;34m\u001b[0m\u001b[0m\n\u001b[0m\u001b[1;32m     13\u001b[0m         \u001b[0;31m# check if the pair is not already generated\u001b[0m\u001b[0;34m\u001b[0m\u001b[0;34m\u001b[0m\u001b[0;34m\u001b[0m\u001b[0m\n\u001b[1;32m     14\u001b[0m         \u001b[0;32mif\u001b[0m \u001b[0;32mnot\u001b[0m \u001b[0;34m(\u001b[0m\u001b[0;34m(\u001b[0m\u001b[0mnegative_df\u001b[0m\u001b[0;34m[\u001b[0m\u001b[0;34m'Sentence_1'\u001b[0m\u001b[0;34m]\u001b[0m \u001b[0;34m==\u001b[0m \u001b[0ms1\u001b[0m\u001b[0;34m)\u001b[0m \u001b[0;34m&\u001b[0m \u001b[0;34m(\u001b[0m\u001b[0mnegative_df\u001b[0m\u001b[0;34m[\u001b[0m\u001b[0;34m'Sentence_2'\u001b[0m\u001b[0;34m]\u001b[0m \u001b[0;34m==\u001b[0m \u001b[0ms2\u001b[0m\u001b[0;34m)\u001b[0m\u001b[0;34m)\u001b[0m\u001b[0;34m.\u001b[0m\u001b[0many\u001b[0m\u001b[0;34m(\u001b[0m\u001b[0;34m)\u001b[0m\u001b[0;34m:\u001b[0m\u001b[0;34m\u001b[0m\u001b[0;34m\u001b[0m\u001b[0m\n\u001b[1;32m     15\u001b[0m             \u001b[0;31m# calculate the cosine similarity between s1 and s2\u001b[0m\u001b[0;34m\u001b[0m\u001b[0;34m\u001b[0m\u001b[0;34m\u001b[0m\u001b[0m\n",
      "\u001b[0;32m~/Developer/university/unipi/hlt/HLT_project/.venv/lib/python3.9/site-packages/pandas/core/frame.py\u001b[0m in \u001b[0;36m?\u001b[0;34m(self, key)\u001b[0m\n\u001b[1;32m   4070\u001b[0m             \u001b[0mis_mi\u001b[0m \u001b[0;34m=\u001b[0m \u001b[0misinstance\u001b[0m\u001b[0;34m(\u001b[0m\u001b[0mself\u001b[0m\u001b[0;34m.\u001b[0m\u001b[0mcolumns\u001b[0m\u001b[0;34m,\u001b[0m \u001b[0mMultiIndex\u001b[0m\u001b[0;34m)\u001b[0m\u001b[0;34m\u001b[0m\u001b[0;34m\u001b[0m\u001b[0m\n\u001b[1;32m   4071\u001b[0m             \u001b[0;31m# GH#45316 Return view if key is not duplicated\u001b[0m\u001b[0;34m\u001b[0m\u001b[0;34m\u001b[0m\u001b[0;34m\u001b[0m\u001b[0m\n\u001b[1;32m   4072\u001b[0m             \u001b[0;31m# Only use drop_duplicates with duplicates for performance\u001b[0m\u001b[0;34m\u001b[0m\u001b[0;34m\u001b[0m\u001b[0;34m\u001b[0m\u001b[0m\n\u001b[1;32m   4073\u001b[0m             if not is_mi and (\n\u001b[0;32m-> 4074\u001b[0;31m                 \u001b[0mself\u001b[0m\u001b[0;34m.\u001b[0m\u001b[0mcolumns\u001b[0m\u001b[0;34m.\u001b[0m\u001b[0mis_unique\u001b[0m\u001b[0;34m\u001b[0m\u001b[0;34m\u001b[0m\u001b[0m\n\u001b[0m\u001b[1;32m   4075\u001b[0m                 \u001b[0;32mand\u001b[0m \u001b[0mkey\u001b[0m \u001b[0;32min\u001b[0m \u001b[0mself\u001b[0m\u001b[0;34m.\u001b[0m\u001b[0mcolumns\u001b[0m\u001b[0;34m\u001b[0m\u001b[0;34m\u001b[0m\u001b[0m\n\u001b[1;32m   4076\u001b[0m                 \u001b[0;32mor\u001b[0m \u001b[0mkey\u001b[0m \u001b[0;32min\u001b[0m \u001b[0mself\u001b[0m\u001b[0;34m.\u001b[0m\u001b[0mcolumns\u001b[0m\u001b[0;34m.\u001b[0m\u001b[0mdrop_duplicates\u001b[0m\u001b[0;34m(\u001b[0m\u001b[0mkeep\u001b[0m\u001b[0;34m=\u001b[0m\u001b[0;32mFalse\u001b[0m\u001b[0;34m)\u001b[0m\u001b[0;34m\u001b[0m\u001b[0;34m\u001b[0m\u001b[0m\n\u001b[1;32m   4077\u001b[0m             ):\n",
      "\u001b[0;31mKeyboardInterrupt\u001b[0m: "
     ]
    }
   ],
   "source": [
    "from sentence_transformers import SentenceTransformer\n",
    "\n",
    "model = SentenceTransformer('sentence-transformers/all-MiniLM-L6-v2')\n",
    "\n",
    "threshold = 0.70\n",
    "\n",
    "negative_df = pd.DataFrame(columns=['Sentence_1', 'Sentence_2', 'Cosine_Similarity', 'label'])\n",
    "\n",
    "while (len(negative_df) <= len(filtered_df)): # ratio 1:1 with the positive class\n",
    "    s1, s2 = generate_random_sentence_pair()\n",
    "    # check if the pair is not already in the corpus\n",
    "    if not ((df['Sentence_1'] == s1) & (df['Sentence_2'] == s2)).any():\n",
    "        # check if the pair is not already generated\n",
    "        if not ((negative_df['Sentence_1'] == s1) & (negative_df['Sentence_2'] == s2)).any():\n",
    "            # calculate the cosine similarity between s1 and s2\n",
    "            emb_s1 = model.encode(s1)\n",
    "            emb_s2 = model.encode(s2)\n",
    "            cosine_similarity = model.similarity(emb_s1, emb_s2)\n",
    "            # check if the cosine similarity is less than the threshold\n",
    "            if cosine_similarity < threshold:\n",
    "                negative_df.append({'Sentence_1': s1, 'Sentence_2': s2, 'Cosine_Similarity': cosine_similarity, 'label': 0}, ignore_index=True)\n",
    "                \n",
    "negative_df.head()"
   ]
  },
  {
   "cell_type": "code",
   "execution_count": null,
   "id": "2dd42eb6",
   "metadata": {},
   "outputs": [],
   "source": [
    "# save the positive and negative samples to a csv file\n",
    "filtered_df.to_csv('PACCSS-IT-positive.csv', index=False)\n",
    "negative_df.to_csv('PACCSS-IT-negative.csv', index=False)"
   ]
  }
 ],
 "metadata": {
  "kernelspec": {
   "display_name": ".venv",
   "language": "python",
   "name": "python3"
  },
  "language_info": {
   "codemirror_mode": {
    "name": "ipython",
    "version": 3
   },
   "file_extension": ".py",
   "mimetype": "text/x-python",
   "name": "python",
   "nbconvert_exporter": "python",
   "pygments_lexer": "ipython3",
   "version": "3.9.6"
  }
 },
 "nbformat": 4,
 "nbformat_minor": 5
}
